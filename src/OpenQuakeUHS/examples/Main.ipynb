{
 "cells": [
  {
   "cell_type": "code",
   "execution_count": null,
   "id": "5bf16293",
   "metadata": {},
   "outputs": [],
   "source": [
    "from OpenQuakeUHS.core.folder_classifier import classify_csv_files\n",
    "from OpenQuakeUHS.tools.uhs_plotter import plot_uhs_sets\n",
    "\n",
    "\n",
    "from OpenQuakeUHS.core.spectrum_parser import UHSSpectrum\n",
    "from OpenQuakeUHS.tools.uhs_table import generate_uhs_table"
   ]
  },
  {
   "cell_type": "code",
   "execution_count": null,
   "id": "b636a9e6",
   "metadata": {},
   "outputs": [],
   "source": [
    "poe=0.10"
   ]
  },
  {
   "cell_type": "code",
   "execution_count": null,
   "id": "7cc7ab9d",
   "metadata": {},
   "outputs": [],
   "source": [
    "csv_path = r\"C:\\Users\\ppala\\OneDrive\\01. Brain\\11. GitHub\\OpenQuakeUHS\\src\\OpenQuakeUHS\\examples\\data\\UHS\\hazard_uhs-mean_467.csv\"\n",
    "uhs = UHSSpectrum(csv_path)\n",
    "uhs.plot(poe=poe)"
   ]
  },
  {
   "cell_type": "code",
   "execution_count": null,
   "id": "052ba1ac",
   "metadata": {},
   "outputs": [],
   "source": [
    "mean, rlz, quantile = classify_csv_files(r\"data\\UHS\")\n",
    "plot_uhs_sets(mean, quantile, rlz, poe=poe)"
   ]
  },
  {
   "cell_type": "code",
   "execution_count": null,
   "id": "4c312b11",
   "metadata": {},
   "outputs": [],
   "source": [
    "table = generate_uhs_table(mean[0], quantile, poe=poe)\n",
    "print(table)"
   ]
  }
 ],
 "metadata": {
  "kernelspec": {
   "display_name": "Python 3",
   "language": "python",
   "name": "python3"
  },
  "language_info": {
   "codemirror_mode": {
    "name": "ipython",
    "version": 3
   },
   "file_extension": ".py",
   "mimetype": "text/x-python",
   "name": "python",
   "nbconvert_exporter": "python",
   "pygments_lexer": "ipython3",
   "version": "3.10.0"
  }
 },
 "nbformat": 4,
 "nbformat_minor": 5
}
