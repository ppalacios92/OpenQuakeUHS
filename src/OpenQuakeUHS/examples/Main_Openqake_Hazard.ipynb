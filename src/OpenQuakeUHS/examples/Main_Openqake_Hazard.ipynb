{
 "cells": [
  {
   "cell_type": "code",
   "execution_count": null,
   "id": "5bf16293",
   "metadata": {},
   "outputs": [],
   "source": [
    "from OpenQuakeUHS.core.folder_classifier import classify_csv_files\n",
    "from OpenQuakeUHS.tools.uhs_plotter import plot_uhs_sets\n",
    "\n",
    "\n",
    "from OpenQuakeUHS.core.spectrum_parser import UHSSpectrum\n",
    "from OpenQuakeUHS.tools.uhs_table import generate_uhs_table\n",
    "\n",
    "\n",
    "from OpenQuakeUHS.core.hazard_classifier import classify_hazard_files\n",
    "from OpenQuakeUHS.tools.hazard_plotter import plot_mean_and_rlz_hazard_curves\n",
    "\n",
    "from OpenQuakeUHS.core.disaggregation_calculator import Disaggregation\n",
    "\n",
    "import os\n"
   ]
  },
  {
   "cell_type": "markdown",
   "id": "03f50163",
   "metadata": {},
   "source": [
    "## All UHS"
   ]
  },
  {
   "cell_type": "code",
   "execution_count": null,
   "id": "b627af60",
   "metadata": {},
   "outputs": [],
   "source": [
    "poe_values=0.2\n",
    "poe=0.02\n",
    "# 0.687 , 0.50 , 0.2 , 0.1 , 0.02 "
   ]
  },
  {
   "cell_type": "code",
   "execution_count": null,
   "id": "23ba5578",
   "metadata": {},
   "outputs": [],
   "source": [
    "SVG_path=r'C:\\Users\\ppala\\OneDrive\\01. Brain\\01. Consultorias\\071. Amenaza Clinica Mosquera\\01. SeismicHazard PSHA\\imagesSVG'"
   ]
  },
  {
   "cell_type": "code",
   "execution_count": null,
   "id": "061635d7",
   "metadata": {},
   "outputs": [],
   "source": [
    "# mean, rlz, quantile = classify_csv_files(r\"data\\uhs\")\n",
    "mean, rlz, quantile = classify_csv_files(r'C:\\Users\\ppala\\OneDrive\\01. Brain\\01. Consultorias\\071. Amenaza Clinica Mosquera\\01. SeismicHazard PSHA\\data\\uhs')\n",
    "\n",
    "\n",
    "plot_uhs_sets(\n",
    "    mean_files=mean,\n",
    "    quantile_files=quantile,\n",
    "    rlz_files=None,\n",
    "    poe=[0.687 , 0.1 , 0.02 ],\n",
    "    title=\"Site UHS\",\n",
    "    save_path = os.path.join(SVG_path, \"UHS\"),\n",
    ")"
   ]
  },
  {
   "cell_type": "code",
   "execution_count": null,
   "id": "5474a8d2",
   "metadata": {},
   "outputs": [],
   "source": [
    "plot_uhs_sets(\n",
    "    mean_files=mean,\n",
    "    quantile_files=None,\n",
    "    rlz_files=None,\n",
    "    poe=[0.687 , 0.1 , 0.02],\n",
    "    title=\"Site UHS\"\n",
    ")"
   ]
  },
  {
   "cell_type": "code",
   "execution_count": null,
   "id": "64cf0606",
   "metadata": {},
   "outputs": [],
   "source": [
    "\n",
    "table = generate_uhs_table(mean[0], quantile, poe=0.687)\n",
    "print(table)"
   ]
  },
  {
   "cell_type": "markdown",
   "id": "a7fda621",
   "metadata": {},
   "source": [
    "## UHS"
   ]
  },
  {
   "cell_type": "code",
   "execution_count": null,
   "id": "7cc7ab9d",
   "metadata": {},
   "outputs": [],
   "source": [
    "uhs = UHSSpectrum(mean[0])\n",
    "uhs.plot(poe=poe)"
   ]
  },
  {
   "cell_type": "markdown",
   "id": "26545b29",
   "metadata": {},
   "source": [
    "## Hazard Curves"
   ]
  },
  {
   "cell_type": "code",
   "execution_count": null,
   "id": "2439d528",
   "metadata": {},
   "outputs": [],
   "source": [
    "# mean_hc, rlz_hc, quantile_hc = classify_hazard_files(r\"data\\hazard_curves\")\n",
    "mean_hc, rlz_hc, quantile_hc = classify_hazard_files(r'C:\\Users\\ppala\\OneDrive\\01. Brain\\01. Consultorias\\071. Amenaza Clinica Mosquera\\01. SeismicHazard PSHA\\data\\hazard_curves')\n",
    "plot_mean_and_rlz_hazard_curves(mean_files=mean_hc, \n",
    "                                rlz_files=None, \n",
    "                                periods=[0.01 , 0.2 ,0.50, 1.0 , 1.5 , 2.0 , 3.0] ,\n",
    "                                reference_value=[0.687 , 0.1 , 0.02], \n",
    "                                 save_path = os.path.join(SVG_path, \"HC\"), \n",
    "                                  )\n",
    "# plot_mean_and_rlz_hazard_curves(mean_files=mean_hc, rlz_files=None, periods=[0.01 , 0.05, 0.075, 0.10, 0.15,  0.2 , 0.25, 0.30, 0.40, 0.50, 0.60,  0.75 , 1.0 ,1.25,  1.5 , 2.0 , 3.0, 4, 5] , reference_value=0.1)\n",
    "\n",
    "# plot_mean_and_rlz_hazard_curves(mean_files=mean_hc, rlz_files=None, periods=[0.01 , 0.1, 0.2, 0.5 ,1 ,2,3])\n",
    "# plot_mean_and_rlz_hazard_curves(mean_files=mean_hc, rlz_files=None, periods=[0.01 , 0.1, 0.2 , 0.5 , 1 ], reference_value=0.1)"
   ]
  },
  {
   "cell_type": "markdown",
   "id": "2f6504b8",
   "metadata": {},
   "source": [
    "## Disaggregation"
   ]
  },
  {
   "cell_type": "code",
   "execution_count": null,
   "id": "523525bc",
   "metadata": {},
   "outputs": [],
   "source": [
    "\n",
    "base_path = r'C:\\Users\\ppala\\OneDrive\\01. Brain\\06. PeligroSismico\\03. PalaciosBrain\\07. OQ Models\\Area_Faults_43TR_M\\OQ_Outputs'\n",
    "target_poe=0.02\n",
    "target_imt='SA(0.6)'\n",
    "\n",
    "Disaggregation(base_path , target_poe , target_imt)"
   ]
  },
  {
   "cell_type": "markdown",
   "id": "829b30f7",
   "metadata": {},
   "source": [
    "## Maps"
   ]
  },
  {
   "cell_type": "code",
   "execution_count": null,
   "id": "3c8a0e97",
   "metadata": {},
   "outputs": [],
   "source": [
    "from IPython.display import display\n",
    "from OpenQuakeUHS.tools.map_utils import plot_uhs_location_map\n",
    "\n",
    "# Asumiendo que ya tienes instanciado un objeto `uhs` de tipo `UHSSpectrum`\n",
    "mapa = plot_uhs_location_map(lat=uhs.latitude, lon=uhs.longitude)\n",
    "display(mapa)\n",
    "\n",
    "print(uhs.latitude , uhs.longitude)\n"
   ]
  }
 ],
 "metadata": {
  "kernelspec": {
   "display_name": "Python 3",
   "language": "python",
   "name": "python3"
  },
  "language_info": {
   "codemirror_mode": {
    "name": "ipython",
    "version": 3
   },
   "file_extension": ".py",
   "mimetype": "text/x-python",
   "name": "python",
   "nbconvert_exporter": "python",
   "pygments_lexer": "ipython3",
   "version": "3.10.0"
  }
 },
 "nbformat": 4,
 "nbformat_minor": 5
}
